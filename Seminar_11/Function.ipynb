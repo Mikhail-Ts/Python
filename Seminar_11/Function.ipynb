{
 "cells": [
  {
   "cell_type": "markdown",
   "id": "5fb01239",
   "metadata": {},
   "source": [
    "## f(x) = y=-5*x^2+10*x+150\n",
    "\n",
    "1. Определить корни\n",
    "\n",
    "2. Найти интервалы, на которых функция возрастает\n",
    "\n",
    "3. Найти интервалы, на которых функция убывает\n",
    "\n",
    "4. Построить график\n",
    "\n",
    "5. Вычислить вершину\n",
    "\n",
    "6. Определить промежутки, на котором f > 0\n",
    "\n",
    "7. Определить промежутки, на котором f < 0"
   ]
  },
  {
   "cell_type": "code",
   "execution_count": 1,
   "id": "89e86429",
   "metadata": {},
   "outputs": [],
   "source": [
    "from sympy import *\n",
    "from sympy.plotting import plot\n",
    "init_printing()\n",
    "import matplotlib.pyplot as plt"
   ]
  },
  {
   "cell_type": "markdown",
   "id": "3e5dad40",
   "metadata": {},
   "source": [
    "#### Функция:"
   ]
  },
  {
   "cell_type": "code",
   "execution_count": 2,
   "id": "fd3a884f",
   "metadata": {},
   "outputs": [],
   "source": [
    "x = Symbol('x')\n",
    "func=-5*x**2+10*x+150"
   ]
  },
  {
   "cell_type": "markdown",
   "id": "b6663c73",
   "metadata": {},
   "source": [
    "#### 1. Найти корни уравнения"
   ]
  },
  {
   "cell_type": "code",
   "execution_count": 3,
   "id": "df252589",
   "metadata": {
    "scrolled": true
   },
   "outputs": [
    {
     "name": "stdout",
     "output_type": "stream",
     "text": [
      "Корни уравнения: [1 - sqrt(31), 1 + sqrt(31)]\n"
     ]
    }
   ],
   "source": [
    "print(f'Корни уравнения: {solve(func)}')"
   ]
  },
  {
   "cell_type": "markdown",
   "id": "5d6bc088",
   "metadata": {},
   "source": [
    "#### 2 Найти интервалы, на которых функция возрастает"
   ]
  },
  {
   "cell_type": "code",
   "execution_count": 4,
   "id": "65886099",
   "metadata": {},
   "outputs": [
    {
     "name": "stdout",
     "output_type": "stream",
     "text": [
      "Интервалы, на которых функция возрастает: (-oo < x) & (x < 1)\n"
     ]
    }
   ],
   "source": [
    "print(f'Интервалы, на которых функция возрастает: {solve(diff(func)>0)}')"
   ]
  },
  {
   "cell_type": "markdown",
   "id": "a49455ef",
   "metadata": {},
   "source": [
    "### 3 Найти интервалы, на которых функция убывает"
   ]
  },
  {
   "cell_type": "code",
   "execution_count": 5,
   "id": "270131b6",
   "metadata": {
    "scrolled": true
   },
   "outputs": [
    {
     "name": "stdout",
     "output_type": "stream",
     "text": [
      "Интервалы, на которых функция убывает: (1 < x) & (x < oo)\n"
     ]
    }
   ],
   "source": [
    "print(f'Интервалы, на которых функция убывает: {solve(diff(func)<0)}')"
   ]
  },
  {
   "cell_type": "markdown",
   "id": "2d91540b",
   "metadata": {},
   "source": [
    "### 4 Построить график"
   ]
  },
  {
   "cell_type": "code",
   "execution_count": 6,
   "id": "78cc5cf9",
   "metadata": {},
   "outputs": [
    {
     "data": {
      "image/png": "[encoded data removed]",
      "text/plain": [
       "<Figure size 640x480 with 1 Axes>"
      ]
     },
     "metadata": {},
     "output_type": "display_data"
    },
    {
     "data": {
      "text/plain": [
       "<sympy.plotting.plot.Plot at 0x1f100beab10>"
      ]
     },
     "execution_count": 6,
     "metadata": {},
     "output_type": "execute_result"
    }
   ],
   "source": [
    "plot(func)"
   ]
  },
  {
   "cell_type": "markdown",
   "id": "82f647a8",
   "metadata": {},
   "source": [
    "### 5 Вычислить вершину"
   ]
  },
  {
   "cell_type": "code",
   "execution_count": 7,
   "id": "7fb5145d",
   "metadata": {},
   "outputs": [
    {
     "name": "stdout",
     "output_type": "stream",
     "text": [
      "Вершина находится в точке [1:155]\n"
     ]
    }
   ],
   "source": [
    "x=solve(diff(func))[0]\n",
    "y=-5*x**2+10*x+150\n",
    "print(f'Вершина находится в точке [{x}:{y}]')"
   ]
  },
  {
   "cell_type": "markdown",
   "id": "c54b28a8",
   "metadata": {},
   "source": [
    "### 6 Определить промежутки, на котором f > 0"
   ]
  },
  {
   "cell_type": "code",
   "execution_count": 8,
   "id": "416e5b52",
   "metadata": {},
   "outputs": [
    {
     "name": "stdout",
     "output_type": "stream",
     "text": [
      "промежутки, на котором f > 0: (x < 1 + sqrt(31)) & (1 - sqrt(31) < x)\n"
     ]
    }
   ],
   "source": [
    "print(f'промежутки, на котором f > 0: {solve(func>0)}')"
   ]
  },
  {
   "cell_type": "markdown",
   "id": "ebbafafa",
   "metadata": {},
   "source": [
    "### 7 Определить промежутки, на котором f < 0"
   ]
  },
  {
   "cell_type": "code",
   "execution_count": 9,
   "id": "36602a1c",
   "metadata": {},
   "outputs": [
    {
     "name": "stdout",
     "output_type": "stream",
     "text": [
      "промежутки, на котором f < 0: ((x < oo) & (1 + sqrt(31) < x)) | ((-oo < x) & (x < 1 - sqrt(31)))\n"
     ]
    }
   ],
   "source": [
    "print(f'промежутки, на котором f < 0: {solve(func<0)}')"
   ]
  },
  {
   "cell_type": "code",
   "execution_count": null,
   "id": "8dce9945",
   "metadata": {},
   "outputs": [],
   "source": []
  }
 ],
 "metadata": {
  "kernelspec": {
   "display_name": "Python 3.11.0 64-bit",
   "language": "python",
   "name": "python3"
  },
  "language_info": {
   "codemirror_mode": {
    "name": "ipython",
    "version": 3
   },
   "file_extension": ".py",
   "mimetype": "text/x-python",
   "name": "python",
   "nbconvert_exporter": "python",
   "pygments_lexer": "ipython3",
   "version": "3.11.0"
  },
  "vscode": {
   "interpreter": {
    "hash": "9343dc9e5fba2ed27146082b3c97e275a19a2d6c6c1eea8a32c5c65cd49ed6e9"
   }
  }
 },
 "nbformat": 4,
 "nbformat_minor": 5
}
